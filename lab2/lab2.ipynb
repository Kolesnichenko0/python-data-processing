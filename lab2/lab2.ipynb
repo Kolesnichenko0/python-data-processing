{
 "cells": [
  {
   "cell_type": "markdown",
   "id": "464d0afc-ff62-4125-ab10-09eaca1cff46",
   "metadata": {},
   "source": [
    "# **Labwork2 Using Pandas for data analytics**"
   ]
  },
  {
   "cell_type": "markdown",
   "id": "99996ea7-11a7-4239-848d-a31c4fa90ce2",
   "metadata": {},
   "source": [
    "## **Objective: Learn the main functions of Pandas for data analysis.**"
   ]
  },
  {
   "cell_type": "markdown",
   "id": "2d5712c0-423e-40f7-a3d5-b84f9f878e56",
   "metadata": {},
   "source": [
    "## Task:\n",
    "1. Download the `NationalNames.csv` file from Kaggle.com  \n",
    "   [https://www.kaggle.com/datasets/kaggle/us-baby-names?select=NationalNames.csv](https://www.kaggle.com/datasets/kaggle/us-baby-names?select=NationalNames.csv)\n",
    "2. Choose one variant for this laboratory work, using the formula:  \n",
    "   **N = (n + 4 ) % 5 + 1**,  \n",
    "   where n is the number in the group list."
   ]
  },
  {
   "cell_type": "code",
   "execution_count": 1,
   "id": "0dbd1c73-98a5-4850-b608-5ae2e0a5b05d",
   "metadata": {
    "jupyter": {
     "is_executing": true
    }
   },
   "outputs": [
    {
     "data": {
      "text/plain": [
       "\"Denys Kolesnychenko's variant: 1\""
      ]
     },
     "execution_count": 1,
     "metadata": {},
     "output_type": "execute_result"
    }
   ],
   "source": [
    "n = 16\n",
    "N = (16 + 4 ) % 5 + 1\n",
    "f\"Denys Kolesnychenko's variant: {N}\""
   ]
  },
  {
   "cell_type": "markdown",
   "id": "38d20cbc-d901-4e05-a6dc-aa67dd6564ef",
   "metadata": {
    "jp-MarkdownHeadingCollapsed": true
   },
   "source": [
    "## Variant 1\n",
    "**Exercise numbers**: 1, 2, 3, 5, 10, 11, 12, 13, 14, 15, 16, 17, 18, 21, 22, 23, 24, 26."
   ]
  },
  {
   "cell_type": "markdown",
   "id": "1ba32f6c-6545-48d1-bcef-ad29f20a9a10",
   "metadata": {},
   "source": [
    "## Completion of the tasks\n",
    "### Preparing for the execution of the tasks\n",
    "#### Importing data"
   ]
  },
  {
   "cell_type": "code",
   "execution_count": 2,
   "id": "8ca6719d-67b4-4812-8ecc-b4cdf6a889ff",
   "metadata": {},
   "outputs": [
    {
     "data": {
      "text/html": [
       "<div>\n",
       "<style scoped>\n",
       "    .dataframe tbody tr th:only-of-type {\n",
       "        vertical-align: middle;\n",
       "    }\n",
       "\n",
       "    .dataframe tbody tr th {\n",
       "        vertical-align: top;\n",
       "    }\n",
       "\n",
       "    .dataframe thead th {\n",
       "        text-align: right;\n",
       "    }\n",
       "</style>\n",
       "<table border=\"1\" class=\"dataframe\">\n",
       "  <thead>\n",
       "    <tr style=\"text-align: right;\">\n",
       "      <th></th>\n",
       "      <th>Id</th>\n",
       "      <th>Name</th>\n",
       "      <th>Year</th>\n",
       "      <th>Gender</th>\n",
       "      <th>Count</th>\n",
       "    </tr>\n",
       "  </thead>\n",
       "  <tbody>\n",
       "    <tr>\n",
       "      <th>0</th>\n",
       "      <td>1</td>\n",
       "      <td>Mary</td>\n",
       "      <td>1880</td>\n",
       "      <td>F</td>\n",
       "      <td>7065</td>\n",
       "    </tr>\n",
       "    <tr>\n",
       "      <th>1</th>\n",
       "      <td>2</td>\n",
       "      <td>Anna</td>\n",
       "      <td>1880</td>\n",
       "      <td>F</td>\n",
       "      <td>2604</td>\n",
       "    </tr>\n",
       "    <tr>\n",
       "      <th>2</th>\n",
       "      <td>3</td>\n",
       "      <td>Emma</td>\n",
       "      <td>1880</td>\n",
       "      <td>F</td>\n",
       "      <td>2003</td>\n",
       "    </tr>\n",
       "    <tr>\n",
       "      <th>3</th>\n",
       "      <td>4</td>\n",
       "      <td>Elizabeth</td>\n",
       "      <td>1880</td>\n",
       "      <td>F</td>\n",
       "      <td>1939</td>\n",
       "    </tr>\n",
       "    <tr>\n",
       "      <th>4</th>\n",
       "      <td>5</td>\n",
       "      <td>Minnie</td>\n",
       "      <td>1880</td>\n",
       "      <td>F</td>\n",
       "      <td>1746</td>\n",
       "    </tr>\n",
       "    <tr>\n",
       "      <th>...</th>\n",
       "      <td>...</td>\n",
       "      <td>...</td>\n",
       "      <td>...</td>\n",
       "      <td>...</td>\n",
       "      <td>...</td>\n",
       "    </tr>\n",
       "    <tr>\n",
       "      <th>1825428</th>\n",
       "      <td>1825429</td>\n",
       "      <td>Zykeem</td>\n",
       "      <td>2014</td>\n",
       "      <td>M</td>\n",
       "      <td>5</td>\n",
       "    </tr>\n",
       "    <tr>\n",
       "      <th>1825429</th>\n",
       "      <td>1825430</td>\n",
       "      <td>Zymeer</td>\n",
       "      <td>2014</td>\n",
       "      <td>M</td>\n",
       "      <td>5</td>\n",
       "    </tr>\n",
       "    <tr>\n",
       "      <th>1825430</th>\n",
       "      <td>1825431</td>\n",
       "      <td>Zymiere</td>\n",
       "      <td>2014</td>\n",
       "      <td>M</td>\n",
       "      <td>5</td>\n",
       "    </tr>\n",
       "    <tr>\n",
       "      <th>1825431</th>\n",
       "      <td>1825432</td>\n",
       "      <td>Zyran</td>\n",
       "      <td>2014</td>\n",
       "      <td>M</td>\n",
       "      <td>5</td>\n",
       "    </tr>\n",
       "    <tr>\n",
       "      <th>1825432</th>\n",
       "      <td>1825433</td>\n",
       "      <td>Zyrin</td>\n",
       "      <td>2014</td>\n",
       "      <td>M</td>\n",
       "      <td>5</td>\n",
       "    </tr>\n",
       "  </tbody>\n",
       "</table>\n",
       "<p>1825433 rows × 5 columns</p>\n",
       "</div>"
      ],
      "text/plain": [
       "              Id       Name  Year Gender  Count\n",
       "0              1       Mary  1880      F   7065\n",
       "1              2       Anna  1880      F   2604\n",
       "2              3       Emma  1880      F   2003\n",
       "3              4  Elizabeth  1880      F   1939\n",
       "4              5     Minnie  1880      F   1746\n",
       "...          ...        ...   ...    ...    ...\n",
       "1825428  1825429     Zykeem  2014      M      5\n",
       "1825429  1825430     Zymeer  2014      M      5\n",
       "1825430  1825431    Zymiere  2014      M      5\n",
       "1825431  1825432      Zyran  2014      M      5\n",
       "1825432  1825433      Zyrin  2014      M      5\n",
       "\n",
       "[1825433 rows x 5 columns]"
      ]
     },
     "execution_count": 2,
     "metadata": {},
     "output_type": "execute_result"
    }
   ],
   "source": [
    "import numpy as np\n",
    "import pandas as pd\n",
    "import matplotlib.pyplot as plt\n",
    "\n",
    "df = pd.read_csv(r'./data/NationalNames.csv')\n",
    "df"
   ]
  },
  {
   "cell_type": "markdown",
   "id": "db10c3ea-8ce0-40ac-8fc6-54bbfe738f7b",
   "metadata": {},
   "source": [
    "### Task 1\n",
    "#### Print the first 8 lines of the data set."
   ]
  },
  {
   "cell_type": "code",
   "execution_count": 3,
   "id": "1a828393-4e3d-41e1-858b-32f97a868527",
   "metadata": {},
   "outputs": [
    {
     "data": {
      "text/html": [
       "<div>\n",
       "<style scoped>\n",
       "    .dataframe tbody tr th:only-of-type {\n",
       "        vertical-align: middle;\n",
       "    }\n",
       "\n",
       "    .dataframe tbody tr th {\n",
       "        vertical-align: top;\n",
       "    }\n",
       "\n",
       "    .dataframe thead th {\n",
       "        text-align: right;\n",
       "    }\n",
       "</style>\n",
       "<table border=\"1\" class=\"dataframe\">\n",
       "  <thead>\n",
       "    <tr style=\"text-align: right;\">\n",
       "      <th></th>\n",
       "      <th>Id</th>\n",
       "      <th>Name</th>\n",
       "      <th>Year</th>\n",
       "      <th>Gender</th>\n",
       "      <th>Count</th>\n",
       "    </tr>\n",
       "  </thead>\n",
       "  <tbody>\n",
       "    <tr>\n",
       "      <th>0</th>\n",
       "      <td>1</td>\n",
       "      <td>Mary</td>\n",
       "      <td>1880</td>\n",
       "      <td>F</td>\n",
       "      <td>7065</td>\n",
       "    </tr>\n",
       "    <tr>\n",
       "      <th>1</th>\n",
       "      <td>2</td>\n",
       "      <td>Anna</td>\n",
       "      <td>1880</td>\n",
       "      <td>F</td>\n",
       "      <td>2604</td>\n",
       "    </tr>\n",
       "    <tr>\n",
       "      <th>2</th>\n",
       "      <td>3</td>\n",
       "      <td>Emma</td>\n",
       "      <td>1880</td>\n",
       "      <td>F</td>\n",
       "      <td>2003</td>\n",
       "    </tr>\n",
       "    <tr>\n",
       "      <th>3</th>\n",
       "      <td>4</td>\n",
       "      <td>Elizabeth</td>\n",
       "      <td>1880</td>\n",
       "      <td>F</td>\n",
       "      <td>1939</td>\n",
       "    </tr>\n",
       "    <tr>\n",
       "      <th>4</th>\n",
       "      <td>5</td>\n",
       "      <td>Minnie</td>\n",
       "      <td>1880</td>\n",
       "      <td>F</td>\n",
       "      <td>1746</td>\n",
       "    </tr>\n",
       "    <tr>\n",
       "      <th>5</th>\n",
       "      <td>6</td>\n",
       "      <td>Margaret</td>\n",
       "      <td>1880</td>\n",
       "      <td>F</td>\n",
       "      <td>1578</td>\n",
       "    </tr>\n",
       "    <tr>\n",
       "      <th>6</th>\n",
       "      <td>7</td>\n",
       "      <td>Ida</td>\n",
       "      <td>1880</td>\n",
       "      <td>F</td>\n",
       "      <td>1472</td>\n",
       "    </tr>\n",
       "    <tr>\n",
       "      <th>7</th>\n",
       "      <td>8</td>\n",
       "      <td>Alice</td>\n",
       "      <td>1880</td>\n",
       "      <td>F</td>\n",
       "      <td>1414</td>\n",
       "    </tr>\n",
       "  </tbody>\n",
       "</table>\n",
       "</div>"
      ],
      "text/plain": [
       "   Id       Name  Year Gender  Count\n",
       "0   1       Mary  1880      F   7065\n",
       "1   2       Anna  1880      F   2604\n",
       "2   3       Emma  1880      F   2003\n",
       "3   4  Elizabeth  1880      F   1939\n",
       "4   5     Minnie  1880      F   1746\n",
       "5   6   Margaret  1880      F   1578\n",
       "6   7        Ida  1880      F   1472\n",
       "7   8      Alice  1880      F   1414"
      ]
     },
     "execution_count": 3,
     "metadata": {},
     "output_type": "execute_result"
    }
   ],
   "source": [
    "df.head(8)"
   ]
  },
  {
   "cell_type": "markdown",
   "id": "f0e15105-baca-4877-90bf-960be5522aa7",
   "metadata": {},
   "source": [
    "### Task 2\n",
    "#### Print the last 8 lines of the data set."
   ]
  },
  {
   "cell_type": "code",
   "execution_count": 4,
   "id": "e8d06232-c8f4-4d8a-96e4-f18eb56ddddb",
   "metadata": {},
   "outputs": [
    {
     "data": {
      "text/html": [
       "<div>\n",
       "<style scoped>\n",
       "    .dataframe tbody tr th:only-of-type {\n",
       "        vertical-align: middle;\n",
       "    }\n",
       "\n",
       "    .dataframe tbody tr th {\n",
       "        vertical-align: top;\n",
       "    }\n",
       "\n",
       "    .dataframe thead th {\n",
       "        text-align: right;\n",
       "    }\n",
       "</style>\n",
       "<table border=\"1\" class=\"dataframe\">\n",
       "  <thead>\n",
       "    <tr style=\"text-align: right;\">\n",
       "      <th></th>\n",
       "      <th>Id</th>\n",
       "      <th>Name</th>\n",
       "      <th>Year</th>\n",
       "      <th>Gender</th>\n",
       "      <th>Count</th>\n",
       "    </tr>\n",
       "  </thead>\n",
       "  <tbody>\n",
       "    <tr>\n",
       "      <th>1825425</th>\n",
       "      <td>1825426</td>\n",
       "      <td>Zo</td>\n",
       "      <td>2014</td>\n",
       "      <td>M</td>\n",
       "      <td>5</td>\n",
       "    </tr>\n",
       "    <tr>\n",
       "      <th>1825426</th>\n",
       "      <td>1825427</td>\n",
       "      <td>Zyeir</td>\n",
       "      <td>2014</td>\n",
       "      <td>M</td>\n",
       "      <td>5</td>\n",
       "    </tr>\n",
       "    <tr>\n",
       "      <th>1825427</th>\n",
       "      <td>1825428</td>\n",
       "      <td>Zyel</td>\n",
       "      <td>2014</td>\n",
       "      <td>M</td>\n",
       "      <td>5</td>\n",
       "    </tr>\n",
       "    <tr>\n",
       "      <th>1825428</th>\n",
       "      <td>1825429</td>\n",
       "      <td>Zykeem</td>\n",
       "      <td>2014</td>\n",
       "      <td>M</td>\n",
       "      <td>5</td>\n",
       "    </tr>\n",
       "    <tr>\n",
       "      <th>1825429</th>\n",
       "      <td>1825430</td>\n",
       "      <td>Zymeer</td>\n",
       "      <td>2014</td>\n",
       "      <td>M</td>\n",
       "      <td>5</td>\n",
       "    </tr>\n",
       "    <tr>\n",
       "      <th>1825430</th>\n",
       "      <td>1825431</td>\n",
       "      <td>Zymiere</td>\n",
       "      <td>2014</td>\n",
       "      <td>M</td>\n",
       "      <td>5</td>\n",
       "    </tr>\n",
       "    <tr>\n",
       "      <th>1825431</th>\n",
       "      <td>1825432</td>\n",
       "      <td>Zyran</td>\n",
       "      <td>2014</td>\n",
       "      <td>M</td>\n",
       "      <td>5</td>\n",
       "    </tr>\n",
       "    <tr>\n",
       "      <th>1825432</th>\n",
       "      <td>1825433</td>\n",
       "      <td>Zyrin</td>\n",
       "      <td>2014</td>\n",
       "      <td>M</td>\n",
       "      <td>5</td>\n",
       "    </tr>\n",
       "  </tbody>\n",
       "</table>\n",
       "</div>"
      ],
      "text/plain": [
       "              Id     Name  Year Gender  Count\n",
       "1825425  1825426       Zo  2014      M      5\n",
       "1825426  1825427    Zyeir  2014      M      5\n",
       "1825427  1825428     Zyel  2014      M      5\n",
       "1825428  1825429   Zykeem  2014      M      5\n",
       "1825429  1825430   Zymeer  2014      M      5\n",
       "1825430  1825431  Zymiere  2014      M      5\n",
       "1825431  1825432    Zyran  2014      M      5\n",
       "1825432  1825433    Zyrin  2014      M      5"
      ]
     },
     "execution_count": 4,
     "metadata": {},
     "output_type": "execute_result"
    }
   ],
   "source": [
    "df.tail(8)"
   ]
  },
  {
   "cell_type": "markdown",
   "id": "068a760e-3e41-4a4a-b2e5-7933ac67562d",
   "metadata": {},
   "source": [
    "### Task 3\n",
    "#### Get the column names of the dataset."
   ]
  },
  {
   "cell_type": "code",
   "execution_count": 5,
   "id": "2c989745-66ce-492a-93ca-828471f5ea17",
   "metadata": {},
   "outputs": [
    {
     "data": {
      "text/plain": [
       "Index(['Id', 'Name', 'Year', 'Gender', 'Count'], dtype='object')"
      ]
     },
     "execution_count": 5,
     "metadata": {},
     "output_type": "execute_result"
    }
   ],
   "source": [
    "df.columns"
   ]
  },
  {
   "cell_type": "markdown",
   "id": "ce19bc5b-3dfc-4f74-aae5-eeaa36cc4e24",
   "metadata": {},
   "source": [
    "### Task 5\n",
    "#### Find the number of unique names in the data set."
   ]
  },
  {
   "cell_type": "code",
   "execution_count": 6,
   "id": "e6dbd1f7-2997-4777-b4f5-fd8235006e16",
   "metadata": {},
   "outputs": [
    {
     "data": {
      "text/plain": [
       "93889"
      ]
     },
     "execution_count": 6,
     "metadata": {},
     "output_type": "execute_result"
    }
   ],
   "source": [
    "df['Name'].nunique()"
   ]
  },
  {
   "cell_type": "markdown",
   "id": "77f5038d-4d29-4d9d-b40a-3e5b7d8bc552",
   "metadata": {},
   "source": [
    "### Task 10\n",
    "#### Count the number of unique names in each year."
   ]
  },
  {
   "cell_type": "code",
   "execution_count": 7,
   "id": "cde513c1-a353-4b37-88d8-d05499189cb9",
   "metadata": {},
   "outputs": [
    {
     "data": {
      "text/html": [
       "<div>\n",
       "<style scoped>\n",
       "    .dataframe tbody tr th:only-of-type {\n",
       "        vertical-align: middle;\n",
       "    }\n",
       "\n",
       "    .dataframe tbody tr th {\n",
       "        vertical-align: top;\n",
       "    }\n",
       "\n",
       "    .dataframe thead th {\n",
       "        text-align: right;\n",
       "    }\n",
       "</style>\n",
       "<table border=\"1\" class=\"dataframe\">\n",
       "  <thead>\n",
       "    <tr style=\"text-align: right;\">\n",
       "      <th></th>\n",
       "      <th>Name</th>\n",
       "    </tr>\n",
       "    <tr>\n",
       "      <th>Year</th>\n",
       "      <th></th>\n",
       "    </tr>\n",
       "  </thead>\n",
       "  <tbody>\n",
       "    <tr>\n",
       "      <th>1880</th>\n",
       "      <td>1889</td>\n",
       "    </tr>\n",
       "    <tr>\n",
       "      <th>1881</th>\n",
       "      <td>1830</td>\n",
       "    </tr>\n",
       "    <tr>\n",
       "      <th>1882</th>\n",
       "      <td>2012</td>\n",
       "    </tr>\n",
       "    <tr>\n",
       "      <th>1883</th>\n",
       "      <td>1962</td>\n",
       "    </tr>\n",
       "    <tr>\n",
       "      <th>1884</th>\n",
       "      <td>2158</td>\n",
       "    </tr>\n",
       "    <tr>\n",
       "      <th>...</th>\n",
       "      <td>...</td>\n",
       "    </tr>\n",
       "    <tr>\n",
       "      <th>2010</th>\n",
       "      <td>31603</td>\n",
       "    </tr>\n",
       "    <tr>\n",
       "      <th>2011</th>\n",
       "      <td>31418</td>\n",
       "    </tr>\n",
       "    <tr>\n",
       "      <th>2012</th>\n",
       "      <td>31236</td>\n",
       "    </tr>\n",
       "    <tr>\n",
       "      <th>2013</th>\n",
       "      <td>30774</td>\n",
       "    </tr>\n",
       "    <tr>\n",
       "      <th>2014</th>\n",
       "      <td>30579</td>\n",
       "    </tr>\n",
       "  </tbody>\n",
       "</table>\n",
       "<p>135 rows × 1 columns</p>\n",
       "</div>"
      ],
      "text/plain": [
       "       Name\n",
       "Year       \n",
       "1880   1889\n",
       "1881   1830\n",
       "1882   2012\n",
       "1883   1962\n",
       "1884   2158\n",
       "...     ...\n",
       "2010  31603\n",
       "2011  31418\n",
       "2012  31236\n",
       "2013  30774\n",
       "2014  30579\n",
       "\n",
       "[135 rows x 1 columns]"
      ]
     },
     "execution_count": 7,
     "metadata": {},
     "output_type": "execute_result"
    }
   ],
   "source": [
    "df.groupby('Year').agg({'Name' : 'nunique'})"
   ]
  },
  {
   "cell_type": "markdown",
   "id": "5bb25fed-51c9-4d04-927d-92109be54943",
   "metadata": {},
   "source": [
    "### Task 11\n",
    "#### Find the year with the most unique names."
   ]
  },
  {
   "cell_type": "code",
   "execution_count": 8,
   "id": "96a986f4-d5cb-47b6-80a7-0c7fc0508e19",
   "metadata": {},
   "outputs": [
    {
     "data": {
      "text/html": [
       "<div>\n",
       "<style scoped>\n",
       "    .dataframe tbody tr th:only-of-type {\n",
       "        vertical-align: middle;\n",
       "    }\n",
       "\n",
       "    .dataframe tbody tr th {\n",
       "        vertical-align: top;\n",
       "    }\n",
       "\n",
       "    .dataframe thead th {\n",
       "        text-align: right;\n",
       "    }\n",
       "</style>\n",
       "<table border=\"1\" class=\"dataframe\">\n",
       "  <thead>\n",
       "    <tr style=\"text-align: right;\">\n",
       "      <th></th>\n",
       "      <th>Name</th>\n",
       "    </tr>\n",
       "    <tr>\n",
       "      <th>Year</th>\n",
       "      <th></th>\n",
       "    </tr>\n",
       "  </thead>\n",
       "  <tbody>\n",
       "    <tr>\n",
       "      <th>2008</th>\n",
       "      <td>32488</td>\n",
       "    </tr>\n",
       "  </tbody>\n",
       "</table>\n",
       "</div>"
      ],
      "text/plain": [
       "       Name\n",
       "Year       \n",
       "2008  32488"
      ]
     },
     "execution_count": 8,
     "metadata": {},
     "output_type": "execute_result"
    }
   ],
   "source": [
    "df.groupby('Year').agg({'Name' : 'nunique'}).nlargest(1, 'Name')"
   ]
  },
  {
   "cell_type": "markdown",
   "id": "3242ccfe-3f18-4a0d-a42e-af36cc06d249",
   "metadata": {},
   "source": [
    "### Task 12\n",
    "#### Find the most popular name in the year with the highest number of unique names (i.e. 2008)."
   ]
  },
  {
   "cell_type": "code",
   "execution_count": 9,
   "id": "85c8d5f3-c029-4b1c-a287-1ae4091e28bb",
   "metadata": {},
   "outputs": [
    {
     "data": {
      "text/plain": [
       "'Jacob'"
      ]
     },
     "execution_count": 9,
     "metadata": {},
     "output_type": "execute_result"
    }
   ],
   "source": [
    "most_unique_names_year = df.groupby('Year').agg({'Name' : 'nunique'}).nlargest(1, 'Name').index[0]\n",
    "df[df['Year'] == most_unique_names_year].groupby('Name').agg({'Count': 'sum'}).nlargest(1, 'Count').index[0]"
   ]
  },
  {
   "cell_type": "markdown",
   "id": "8a9f60db-95d7-4431-ad97-ba8cb2ce0ffe",
   "metadata": {},
   "source": [
    "### Task 13\n",
    "#### Find the year when the name Jacob was the most popular female's name in the country."
   ]
  },
  {
   "cell_type": "code",
   "execution_count": 10,
   "id": "05a92802-a687-4d88-b88e-b7162ba4a272",
   "metadata": {},
   "outputs": [
    {
     "data": {
      "text/html": [
       "<div>\n",
       "<style scoped>\n",
       "    .dataframe tbody tr th:only-of-type {\n",
       "        vertical-align: middle;\n",
       "    }\n",
       "\n",
       "    .dataframe tbody tr th {\n",
       "        vertical-align: top;\n",
       "    }\n",
       "\n",
       "    .dataframe thead th {\n",
       "        text-align: right;\n",
       "    }\n",
       "</style>\n",
       "<table border=\"1\" class=\"dataframe\">\n",
       "  <thead>\n",
       "    <tr style=\"text-align: right;\">\n",
       "      <th></th>\n",
       "      <th>Id</th>\n",
       "      <th>Name</th>\n",
       "      <th>Year</th>\n",
       "      <th>Gender</th>\n",
       "      <th>Count</th>\n",
       "    </tr>\n",
       "  </thead>\n",
       "  <tbody>\n",
       "    <tr>\n",
       "      <th>1455556</th>\n",
       "      <td>1455557</td>\n",
       "      <td>Jacob</td>\n",
       "      <td>2004</td>\n",
       "      <td>F</td>\n",
       "      <td>171</td>\n",
       "    </tr>\n",
       "  </tbody>\n",
       "</table>\n",
       "</div>"
      ],
      "text/plain": [
       "              Id   Name  Year Gender  Count\n",
       "1455556  1455557  Jacob  2004      F    171"
      ]
     },
     "execution_count": 10,
     "metadata": {},
     "output_type": "execute_result"
    }
   ],
   "source": [
    "jacob_female_data = df[(df['Name'] == 'Jacob') & (df['Gender'] == 'F')]\n",
    "most_popular_jacob_data = jacob_female_data[jacob_female_data['Count'] == jacob_female_data['Count'].max()]\n",
    "most_popular_jacob_data"
   ]
  },
  {
   "cell_type": "markdown",
   "id": "1ac88f4d-ea6f-407c-9a4a-1561dfa0f54f",
   "metadata": {},
   "source": [
    "### Task 14\n",
    "#### Find the year with the most gender-neutral names (same male and female names)."
   ]
  },
  {
   "cell_type": "code",
   "execution_count": 11,
   "id": "662bba0c-388f-41ae-849a-4dd061b4b676",
   "metadata": {},
   "outputs": [
    {
     "data": {
      "text/html": [
       "<div>\n",
       "<style scoped>\n",
       "    .dataframe tbody tr th:only-of-type {\n",
       "        vertical-align: middle;\n",
       "    }\n",
       "\n",
       "    .dataframe tbody tr th {\n",
       "        vertical-align: top;\n",
       "    }\n",
       "\n",
       "    .dataframe thead th {\n",
       "        text-align: right;\n",
       "    }\n",
       "</style>\n",
       "<table border=\"1\" class=\"dataframe\">\n",
       "  <thead>\n",
       "    <tr style=\"text-align: right;\">\n",
       "      <th></th>\n",
       "      <th>Gender_neutral_names</th>\n",
       "    </tr>\n",
       "    <tr>\n",
       "      <th>Year</th>\n",
       "      <th></th>\n",
       "    </tr>\n",
       "  </thead>\n",
       "  <tbody>\n",
       "    <tr>\n",
       "      <th>2008</th>\n",
       "      <td>2557</td>\n",
       "    </tr>\n",
       "  </tbody>\n",
       "</table>\n",
       "</div>"
      ],
      "text/plain": [
       "      Gender_neutral_names\n",
       "Year                      \n",
       "2008                  2557"
      ]
     },
     "execution_count": 11,
     "metadata": {},
     "output_type": "execute_result"
    }
   ],
   "source": [
    "gender_counts_per_year_name = df.groupby(['Year', 'Name'])['Gender'].nunique()\n",
    "gender_neutral_names = gender_counts_per_year_name[gender_counts_per_year_name > 1]\n",
    "year_counts = gender_neutral_names.groupby('Year').count()\n",
    "max_count = year_counts.max()\n",
    "result = year_counts[year_counts == year_counts.max()]\n",
    "\n",
    "data_frame_result = pd.DataFrame({\n",
    "    'Year': [year_counts.idxmax()], \n",
    "    'Gender_neutral_names': [max_count]\n",
    "})\n",
    "\n",
    "data_frame_result.set_index('Year')"
   ]
  },
  {
   "cell_type": "markdown",
   "id": "9d10a85a-0f5c-42b7-9fc6-f242d79ef527",
   "metadata": {},
   "source": [
    "### Task 15\n",
    "#### Find the total number of births in a year."
   ]
  },
  {
   "cell_type": "code",
   "execution_count": 12,
   "id": "c51bd11d-fee4-408f-a421-227969f3eb70",
   "metadata": {},
   "outputs": [
    {
     "data": {
      "text/html": [
       "<div>\n",
       "<style scoped>\n",
       "    .dataframe tbody tr th:only-of-type {\n",
       "        vertical-align: middle;\n",
       "    }\n",
       "\n",
       "    .dataframe tbody tr th {\n",
       "        vertical-align: top;\n",
       "    }\n",
       "\n",
       "    .dataframe thead th {\n",
       "        text-align: right;\n",
       "    }\n",
       "</style>\n",
       "<table border=\"1\" class=\"dataframe\">\n",
       "  <thead>\n",
       "    <tr style=\"text-align: right;\">\n",
       "      <th></th>\n",
       "      <th>Count</th>\n",
       "    </tr>\n",
       "    <tr>\n",
       "      <th>Year</th>\n",
       "      <th></th>\n",
       "    </tr>\n",
       "  </thead>\n",
       "  <tbody>\n",
       "    <tr>\n",
       "      <th>1880</th>\n",
       "      <td>201484</td>\n",
       "    </tr>\n",
       "    <tr>\n",
       "      <th>1881</th>\n",
       "      <td>192699</td>\n",
       "    </tr>\n",
       "    <tr>\n",
       "      <th>1882</th>\n",
       "      <td>221538</td>\n",
       "    </tr>\n",
       "    <tr>\n",
       "      <th>1883</th>\n",
       "      <td>216950</td>\n",
       "    </tr>\n",
       "    <tr>\n",
       "      <th>1884</th>\n",
       "      <td>243467</td>\n",
       "    </tr>\n",
       "  </tbody>\n",
       "</table>\n",
       "</div>"
      ],
      "text/plain": [
       "       Count\n",
       "Year        \n",
       "1880  201484\n",
       "1881  192699\n",
       "1882  221538\n",
       "1883  216950\n",
       "1884  243467"
      ]
     },
     "execution_count": 12,
     "metadata": {},
     "output_type": "execute_result"
    }
   ],
   "source": [
    "df.groupby(['Year']).agg({'Count':'sum'}).head(5)"
   ]
  },
  {
   "cell_type": "markdown",
   "id": "a3f0e020-9eb7-4715-8d80-8015316440b9",
   "metadata": {},
   "source": [
    "### Task 16\n",
    "#### Find the year when the most children were born."
   ]
  },
  {
   "cell_type": "code",
   "execution_count": 13,
   "id": "3115d63e-f037-4307-89d3-fc6fc6a484b6",
   "metadata": {},
   "outputs": [
    {
     "data": {
      "text/plain": [
       "1957"
      ]
     },
     "execution_count": 13,
     "metadata": {},
     "output_type": "execute_result"
    }
   ],
   "source": [
    "total_births_per_year  = df.groupby(['Year']).agg({'Count':'sum'})\n",
    "year_with_most_births = total_births_per_year[total_births_per_year['Count'] == total_births_per_year['Count'].max()]\n",
    "year_with_most_births.index[0].item()"
   ]
  },
  {
   "cell_type": "markdown",
   "id": "2216bf7f-6b4d-45c3-bfe1-7e11282622c2",
   "metadata": {},
   "source": [
    "### Task 17\n",
    "#### Find the number of girls and boys born each year."
   ]
  },
  {
   "cell_type": "code",
   "execution_count": 14,
   "id": "8093143b-6dad-4873-bc59-7ae8b3e0caf2",
   "metadata": {},
   "outputs": [
    {
     "data": {
      "text/html": [
       "<div>\n",
       "<style scoped>\n",
       "    .dataframe tbody tr th:only-of-type {\n",
       "        vertical-align: middle;\n",
       "    }\n",
       "\n",
       "    .dataframe tbody tr th {\n",
       "        vertical-align: top;\n",
       "    }\n",
       "\n",
       "    .dataframe thead th {\n",
       "        text-align: right;\n",
       "    }\n",
       "</style>\n",
       "<table border=\"1\" class=\"dataframe\">\n",
       "  <thead>\n",
       "    <tr style=\"text-align: right;\">\n",
       "      <th>Gender</th>\n",
       "      <th>F</th>\n",
       "      <th>M</th>\n",
       "    </tr>\n",
       "    <tr>\n",
       "      <th>Year</th>\n",
       "      <th></th>\n",
       "      <th></th>\n",
       "    </tr>\n",
       "  </thead>\n",
       "  <tbody>\n",
       "    <tr>\n",
       "      <th>1880</th>\n",
       "      <td>90993</td>\n",
       "      <td>110491</td>\n",
       "    </tr>\n",
       "    <tr>\n",
       "      <th>1881</th>\n",
       "      <td>91954</td>\n",
       "      <td>100745</td>\n",
       "    </tr>\n",
       "    <tr>\n",
       "      <th>1882</th>\n",
       "      <td>107850</td>\n",
       "      <td>113688</td>\n",
       "    </tr>\n",
       "    <tr>\n",
       "      <th>1883</th>\n",
       "      <td>112321</td>\n",
       "      <td>104629</td>\n",
       "    </tr>\n",
       "    <tr>\n",
       "      <th>1884</th>\n",
       "      <td>129022</td>\n",
       "      <td>114445</td>\n",
       "    </tr>\n",
       "  </tbody>\n",
       "</table>\n",
       "</div>"
      ],
      "text/plain": [
       "Gender       F       M\n",
       "Year                  \n",
       "1880     90993  110491\n",
       "1881     91954  100745\n",
       "1882    107850  113688\n",
       "1883    112321  104629\n",
       "1884    129022  114445"
      ]
     },
     "execution_count": 14,
     "metadata": {},
     "output_type": "execute_result"
    }
   ],
   "source": [
    "df.pivot_table(index='Year', columns='Gender', values='Count', aggfunc='sum').head(5)"
   ]
  },
  {
   "cell_type": "markdown",
   "id": "7e4bef0e-f75b-4438-80c7-50f7f00f6d1b",
   "metadata": {},
   "source": [
    "### Task 18\n",
    "#### Count the number of years when girls were born more than boys."
   ]
  },
  {
   "cell_type": "code",
   "execution_count": 15,
   "id": "16b13fab-c0a4-4083-b49f-a6f2315aab5e",
   "metadata": {},
   "outputs": [
    {
     "data": {
      "text/plain": [
       "54"
      ]
     },
     "execution_count": 15,
     "metadata": {},
     "output_type": "execute_result"
    }
   ],
   "source": [
    "gender_counts_per_year = df.pivot_table(index='Year', columns='Gender', values='Count', aggfunc='sum')\n",
    "years_with_more_girls = gender_counts_per_year[gender_counts_per_year['F'] > gender_counts_per_year['M']]\n",
    "years_with_more_girls.shape[0]"
   ]
  },
  {
   "cell_type": "markdown",
   "id": "5adc5f7b-0b00-40b4-9b22-cece1f7b1661",
   "metadata": {},
   "source": [
    "### Task 21\n",
    "#### Count how many times the boys were called Barbara."
   ]
  },
  {
   "cell_type": "code",
   "execution_count": 16,
   "id": "3f476c47-70c8-4b59-98f8-6b5ec918084b",
   "metadata": {},
   "outputs": [
    {
     "data": {
      "text/plain": [
       "4139"
      ]
     },
     "execution_count": 16,
     "metadata": {},
     "output_type": "execute_result"
    }
   ],
   "source": [
    "boys_named_barbara = df[(df['Name'] == 'Barbara') & (df['Gender'] == 'M')]\n",
    "boys_named_barbara['Count'].sum().item()"
   ]
  },
  {
   "cell_type": "markdown",
   "id": "7a420bad-0b6e-41c6-a052-62ad2a5b870e",
   "metadata": {},
   "source": [
    "### Task 22\n",
    "#### Calculate how many years of observation have been conducted."
   ]
  },
  {
   "cell_type": "code",
   "execution_count": 17,
   "id": "345e516e-f971-4ee9-90ed-2bd5c6f9a4f2",
   "metadata": {},
   "outputs": [
    {
     "data": {
      "text/plain": [
       "'Observation was conducted for 135 years'"
      ]
     },
     "execution_count": 17,
     "metadata": {},
     "output_type": "execute_result"
    }
   ],
   "source": [
    "f\"Observation was conducted for {df['Year'].nunique()} years\""
   ]
  },
  {
   "cell_type": "markdown",
   "id": "9cdb678a-cf9d-4907-89f0-166ae22b8c5c",
   "metadata": {},
   "source": [
    "### Task 23\n",
    "#### Find the most popular gender-neutral names (those that are present every year)."
   ]
  },
  {
   "cell_type": "code",
   "execution_count": 18,
   "id": "223d524c-0861-459d-8101-7bbeccebeb0e",
   "metadata": {},
   "outputs": [
    {
     "data": {
      "text/html": [
       "<div>\n",
       "<style scoped>\n",
       "    .dataframe tbody tr th:only-of-type {\n",
       "        vertical-align: middle;\n",
       "    }\n",
       "\n",
       "    .dataframe tbody tr th {\n",
       "        vertical-align: top;\n",
       "    }\n",
       "\n",
       "    .dataframe thead th {\n",
       "        text-align: right;\n",
       "    }\n",
       "</style>\n",
       "<table border=\"1\" class=\"dataframe\">\n",
       "  <thead>\n",
       "    <tr style=\"text-align: right;\">\n",
       "      <th></th>\n",
       "      <th>Name</th>\n",
       "    </tr>\n",
       "  </thead>\n",
       "  <tbody>\n",
       "    <tr>\n",
       "      <th>0</th>\n",
       "      <td>James</td>\n",
       "    </tr>\n",
       "    <tr>\n",
       "      <th>1</th>\n",
       "      <td>John</td>\n",
       "    </tr>\n",
       "    <tr>\n",
       "      <th>2</th>\n",
       "      <td>Robert</td>\n",
       "    </tr>\n",
       "    <tr>\n",
       "      <th>3</th>\n",
       "      <td>William</td>\n",
       "    </tr>\n",
       "    <tr>\n",
       "      <th>4</th>\n",
       "      <td>Joseph</td>\n",
       "    </tr>\n",
       "    <tr>\n",
       "      <th>5</th>\n",
       "      <td>Jean</td>\n",
       "    </tr>\n",
       "    <tr>\n",
       "      <th>6</th>\n",
       "      <td>Jesse</td>\n",
       "    </tr>\n",
       "    <tr>\n",
       "      <th>7</th>\n",
       "      <td>Leslie</td>\n",
       "    </tr>\n",
       "    <tr>\n",
       "      <th>8</th>\n",
       "      <td>Francis</td>\n",
       "    </tr>\n",
       "    <tr>\n",
       "      <th>9</th>\n",
       "      <td>Lee</td>\n",
       "    </tr>\n",
       "    <tr>\n",
       "      <th>10</th>\n",
       "      <td>Jessie</td>\n",
       "    </tr>\n",
       "    <tr>\n",
       "      <th>11</th>\n",
       "      <td>Marion</td>\n",
       "    </tr>\n",
       "    <tr>\n",
       "      <th>12</th>\n",
       "      <td>Johnnie</td>\n",
       "    </tr>\n",
       "    <tr>\n",
       "      <th>13</th>\n",
       "      <td>Sidney</td>\n",
       "    </tr>\n",
       "    <tr>\n",
       "      <th>14</th>\n",
       "      <td>Ollie</td>\n",
       "    </tr>\n",
       "    <tr>\n",
       "      <th>15</th>\n",
       "      <td>Tommie</td>\n",
       "    </tr>\n",
       "  </tbody>\n",
       "</table>\n",
       "</div>"
      ],
      "text/plain": [
       "       Name\n",
       "0     James\n",
       "1      John\n",
       "2    Robert\n",
       "3   William\n",
       "4    Joseph\n",
       "5      Jean\n",
       "6     Jesse\n",
       "7    Leslie\n",
       "8   Francis\n",
       "9       Lee\n",
       "10   Jessie\n",
       "11   Marion\n",
       "12  Johnnie\n",
       "13   Sidney\n",
       "14    Ollie\n",
       "15   Tommie"
      ]
     },
     "execution_count": 18,
     "metadata": {},
     "output_type": "execute_result"
    }
   ],
   "source": [
    "gender_counts_per_year_name = df.groupby(['Year', 'Name'])['Gender'].nunique()\n",
    "gender_neutral_names = gender_counts_per_year_name[gender_counts_per_year_name > 1]\n",
    "consistent_gender_neutral_names = gender_neutral_names.groupby('Name').size()\n",
    "always_gender_neutral_names = consistent_gender_neutral_names[consistent_gender_neutral_names == df['Year'].nunique()]\n",
    "name_counts = df[df['Name'].isin(always_gender_neutral_names.index)].groupby('Name')['Count'].sum()\n",
    "sorted_name_counts = name_counts.sort_values(ascending=False)\n",
    "pd.DataFrame(sorted_name_counts.reset_index()['Name'])"
   ]
  },
  {
   "cell_type": "markdown",
   "id": "cd8823a1-ef0c-493b-abbd-f5529109536b",
   "metadata": {},
   "source": [
    "### Task 24\n",
    "#### Find the most popular among the unpopular names (the unpopular name that was given to children the most times)."
   ]
  },
  {
   "cell_type": "code",
   "execution_count": 19,
   "id": "e1b8828c-8429-4354-87e3-9d6912f0b9b8",
   "metadata": {},
   "outputs": [
    {
     "data": {
      "text/plain": [
       "'The most popular of the unpopular names is Celester. This name has been called 160 times.'"
      ]
     },
     "execution_count": 19,
     "metadata": {},
     "output_type": "execute_result"
    }
   ],
   "source": [
    "most_popular_unpopular_name = df[df['Count'] == 5].groupby('Name').agg({'Count' : 'sum'}).nlargest(1, 'Count')\n",
    "name = most_popular_unpopular_name.index[0]\n",
    "count = most_popular_unpopular_name['Count'].values[0]\n",
    "f'The most popular of the unpopular names is {name}. This name has been called {count} times.'"
   ]
  },
  {
   "cell_type": "markdown",
   "id": "424a02a6-8f39-48ce-b3fb-399b198944e9",
   "metadata": {},
   "source": [
    "### Task 26\n",
    "#### Draw graphs of the number of female names John and male names Mary by year."
   ]
  },
  {
   "cell_type": "code",
   "execution_count": 20,
   "id": "1e0c5df6-6403-41de-a639-672e8caf2966",
   "metadata": {},
   "outputs": [
    {
     "data": {
      "application/vnd.jupyter.widget-view+json": {
       "model_id": "08569478dbce43aa85ec4b75c4da2f58",
       "version_major": 2,
       "version_minor": 0
      },
      "image/png": "[encoded data removed]",
      "text/html": [
       "\n",
       "            <div style=\"display: inline-block;\">\n",
       "                <div class=\"jupyter-widgets widget-label\" style=\"text-align: center;\">\n",
       "                    Figure\n",
       "                </div>\n",
       "                <img src='data:image/png;base64,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' width=1200.0/>\n",
       "            </div>\n",
       "        "
      ],
      "text/plain": [
       "Canvas(toolbar=Toolbar(toolitems=[('Home', 'Reset original view', 'home', 'home'), ('Back', 'Back to previous …"
      ]
     },
     "metadata": {},
     "output_type": "display_data"
    }
   ],
   "source": [
    "%matplotlib widget\n",
    "\n",
    "female_john = df[(df['Name'] == 'John') & (df['Gender'] == 'F')]\n",
    "male_mary = df[(df['Name'] == 'Mary') & (df['Gender'] == 'M')]\n",
    "\n",
    "female_john_by_year = female_john.set_index('Year')['Count']\n",
    "male_mary_by_year = male_mary.set_index('Year')['Count']\n",
    "\n",
    "plt.figure(figsize=(12, 6), dpi=100)\n",
    "plt.plot(female_john_by_year.index, female_john_by_year.values, label=\"Female 'John'\", color=\"steelblue\")\n",
    "plt.plot(male_mary_by_year.index, male_mary_by_year.values, label=\"Male 'Mary'\", color=\"darkorange\")\n",
    "\n",
    "plt.title(\"Number of Female Names 'John' and Male Names 'Mary' by Year\")\n",
    "plt.xlabel(\"Year\")\n",
    "plt.ylabel(\"Count\")\n",
    "plt.legend(title='Name')\n",
    "\n",
    "plt.show()"
   ]
  },
  {
   "cell_type": "code",
   "execution_count": 21,
   "id": "f361ff42-d427-40be-a9c2-4d80e6351cfa",
   "metadata": {},
   "outputs": [],
   "source": [
    "# plt.close()"
   ]
  }
 ],
 "metadata": {
  "kernelspec": {
   "display_name": "Python 3 (ipykernel)",
   "language": "python",
   "name": "python3"
  },
  "language_info": {
   "codemirror_mode": {
    "name": "ipython",
    "version": 3
   },
   "file_extension": ".py",
   "mimetype": "text/x-python",
   "name": "python",
   "nbconvert_exporter": "python",
   "pygments_lexer": "ipython3",
   "version": "3.12.6"
  }
 },
 "nbformat": 4,
 "nbformat_minor": 5
}
