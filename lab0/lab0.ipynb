{
 "cells": [
  {
   "cell_type": "code",
   "execution_count": 12,
   "id": "c138535a-38f6-4f11-b38a-2e3065eeb325",
   "metadata": {},
   "outputs": [
    {
     "name": "stdout",
     "output_type": "stream",
     "text": [
      "Denys Kolesnychenko's variant: 9\n"
     ]
    }
   ],
   "source": [
    "N = ord(\"D\") % 10 + 1\n",
    "print(f\"Denys Kolesnychenko's variant: {N}\")"
   ]
  },
  {
   "cell_type": "markdown",
   "id": "cd05703c-8541-4912-a344-3350544b2524",
   "metadata": {},
   "source": [
    "# Task №1"
   ]
  },
  {
   "cell_type": "code",
   "execution_count": null,
   "id": "3374beb0-ce53-4c38-bb77-1a44c205ecaf",
   "metadata": {},
   "outputs": [],
   "source": [
    "# Czech Republic (Česká republika)\n",
    "\n",
    "## Overview\n",
    "\n",
    "The [Czech Republic](https://en.wikipedia.org/wiki/Czech_Republic), also known as *Czechia*, is a landlocked country in\n",
    "Central Europe. Historically known as ***Bohemia***, it is bordered by Austria to the south, Germany to the west, Poland\n",
    "to the northeast, and Slovakia to the southeast.\n",
    "\n",
    "## General Information\n",
    "\n",
    "|                       |           **Value**            |\n",
    "|----------------------:|:------------------------------:|\n",
    "|              **Area** |         78,871 km$^2$          |\n",
    "|        **Population** |      10.9 million (2024)       |\n",
    "|           **Capital** |             Prague             |\n",
    "| **Official Language** |             Czech              |\n",
    "|   **Government Type** | Unitary parliamentary republic |\n",
    "\n",
    "---\n",
    "\n",
    "## Flag"
   ]
  },
  {
   "cell_type": "code",
   "execution_count": 21,
   "id": "bbf3e5da-3e56-49b1-a1d7-0d8f4bbdd34a",
   "metadata": {},
   "outputs": [
    {
     "data": {
      "text/html": [
       "<svg width=\"450\" height=\"300\" style=\"border: 1px solid #ccc;\" xmlns=\"http://www.w3.org/2000/svg\">\n",
       "  <rect x=\"0\" y=\"0\" width=\"450\" height=\"150\" fill=\"#fff\" />\n",
       "  <rect x=\"0\" y=\"150\" width=\"450\" height=\"150\" fill=\"red\" />\n",
       "  <polygon points=\"0,0 0,300 225,150\" fill=\"darkblue\" />\n",
       "</svg>\n"
      ],
      "text/plain": [
       "<IPython.core.display.HTML object>"
      ]
     },
     "metadata": {},
     "output_type": "display_data"
    }
   ],
   "source": [
    "%%HTML\n",
    "<svg width=\"450\" height=\"300\" style=\"border: 1px solid #ccc;\" xmlns=\"http://www.w3.org/2000/svg\">\n",
    "  <rect x=\"0\" y=\"0\" width=\"450\" height=\"150\" fill=\"#fff\" />\n",
    "  <rect x=\"0\" y=\"150\" width=\"450\" height=\"150\" fill=\"red\" />\n",
    "  <polygon points=\"0,0 0,300 225,150\" fill=\"darkblue\" />\n",
    "</svg>"
   ]
  },
  {
   "cell_type": "markdown",
   "id": "d66333ab-210e-4efb-ba35-5c5614c58bd4",
   "metadata": {},
   "source": [
    "## Coat of arms"
   ]
  },
  {
   "cell_type": "code",
   "execution_count": 22,
   "id": "df10d092-638d-4a54-99ba-7d4bdecc57f9",
   "metadata": {},
   "outputs": [
    {
     "data": {
      "text/html": [
       "<img src=\"./img/Coat_of_arms_of_the_Czech_Republic.png\" alt=\"Coat of arms\" width=\"567\" height=\"679\">\n",
       "\n",
       "<div style=\"border: 2px dotted green; padding: 10px;\">\n",
       "  The coat of arms of the <span style=\"color:blue;\">Czech Republic</span> is divided into two principal variants.\n",
       "  <span style=\"color:green;\">G</span>reater coat of arms displays the three historical regions—the\n",
       "  <span style=\"color:purple;\">Czech lands</span>—which make up the nation.\n",
       "\n",
       "  <div style=\"border: 2px solid blue; padding: 5px; margin-top: 10px;\">\n",
       "    <span style=\"color:red;\">Lesser coat of arms</span> displays lone silver\n",
       "    <span style=\"color:orange;\">double-tailed lion</span> in red shield.\n",
       "  </div>\n",
       "</div>\n"
      ],
      "text/plain": [
       "<IPython.core.display.HTML object>"
      ]
     },
     "metadata": {},
     "output_type": "display_data"
    }
   ],
   "source": [
    "%%HTML\n",
    "<img src=\"./img/Coat_of_arms_of_the_Czech_Republic.png\" alt=\"Coat of arms\" width=\"567\" height=\"679\">\n",
    "\n",
    "<div style=\"border: 2px dotted green; padding: 10px;\">\n",
    "  The coat of arms of the <span style=\"color:blue;\">Czech Republic</span> is divided into two principal variants.\n",
    "  <span style=\"color:green;\">G</span>reater coat of arms displays the three historical regions—the\n",
    "  <span style=\"color:purple;\">Czech lands</span>—which make up the nation.\n",
    "\n",
    "  <div style=\"border: 2px solid blue; padding: 5px; margin-top: 10px;\">\n",
    "    <span style=\"color:red;\">Lesser coat of arms</span> displays lone silver\n",
    "    <span style=\"color:orange;\">double-tailed lion</span> in red shield.\n",
    "  </div>\n",
    "</div>"
   ]
  },
  {
   "cell_type": "markdown",
   "id": "e7cb8084-37ce-437d-bc12-6e0cecc62f62",
   "metadata": {},
   "source": [
    "---\n",
    "\n",
    "## Abbreviated additional information\n",
    "\n",
    "1. **Notable Figures**\n",
    "    - **Milan Kundera**\n",
    "        - Writer\n",
    "        - Dramatist\n",
    "    - **Jaroslav Hasek**\n",
    "        - Writer\n",
    "        - Journalist\n",
    "        - Humorist\n",
    "    - **Vaclav Havel**\n",
    "        - Writer\n",
    "        - Dramatist\n",
    "        - Politician\n",
    "2. **Cultural Monuments**\n",
    "    - *Prague Castle*\n",
    "    - *Charles Bridge*\n",
    "    - *St. Vitus Cathedral*\n",
    "3. **Natural Attractions**\n",
    "    - ***Bohemian Switzerland National Park***\n",
    "    - ***Krkonos National Park***\n",
    "    - ***Cesky Krumlov***\n",
    "\n",
    "---\n",
    "\n",
    "## Additional information\n",
    "\n",
    "### Notable Figures\n",
    "\n",
    "1. **Milan Kundera**  \n",
    "   [Milan Kundera](https://en.wikipedia.org/wiki/Milan_Kundera) is a renowned Czech writer known for his novels that\n",
    "   explore themes of history, identity, and memory.\n",
    "   His notable works include *The Joke* and *The Book of Laughter and Forgetting*.  \n",
    "   ![Milan Kundera](https://imgix.ranker.com/node_img/80/1587912/original/milan-kundera-photo-4?w=350&h=350&q=90&fm=jpg&fit=crop&crop=faces)\n",
    "\n",
    "2. **Jaroslav Hasek**  \n",
    "   [Jaroslav Hasek](https://en.wikipedia.org/wiki/Jaroslav_Ha%C5%A1ek) was a Czech writer and journalist, famous for his\n",
    "   satirical novel *The Good Soldier Svejk*, which\n",
    "   provides a humorous yet critical perspective on the absurdities of war.  \n",
    "   ![Jaroslav Hasek](https://upload.wikimedia.org/wikipedia/commons/thumb/a/a8/%D0%AF%D1%80%D0%BE%D1%81%D0%BB%D0%B0%D0%B2_%D0%93%D0%B0%D1%88%D0%B5%D0%BA.jpg/330px-%D0%AF%D1%80%D0%BE%D1%81%D0%BB%D0%B0%D0%B2_%D0%93%D0%B0%D1%88%D0%B5%D0%BA.jpg)\n",
    "\n",
    "3. **Vaclav Havel**  \n",
    "   [Vaclav Havel](https://en.wikipedia.org/wiki/V%C3%A1clav_Havel) was a playwright, dissident, and politician who\n",
    "   served as the President of Czechoslovakia and later the\n",
    "   Czech Republic. He was a key figure in the Velvet Revolution and a proponent of human rights.  \n",
    "   ![Vaclav Havel](https://upload.wikimedia.org/wikipedia/commons/thumb/a/a4/Vaclav_Havel.jpg/375px-Vaclav_Havel.jpg)\n",
    "\n",
    "### Cultural Monuments\n",
    "\n",
    "- *Prague Castle*  \n",
    "  [Prague Castle](https://en.wikipedia.org/wiki/Prague_Castle) is one of the largest ancient castles in the world.\n",
    "  Located in the heart of Prague, it has been the seat\n",
    "  of Czech kings, emperors, and presidents. The castle complex includes the Gothic-style St. Vitus Cathedral.  \n",
    "  ![Prague Castle](https://upload.wikimedia.org/wikipedia/commons/thumb/5/5e/Karl%C5%AFv_most_Praha%2C_Star%C3%A9_M%C4%9Bsto_20170810_007.jpg/1280px-Karl%C5%AFv_most_Praha%2C_Star%C3%A9_M%C4%9Bsto_20170810_007.jpg)\n",
    "\n",
    "- *Charles Bridge*  \n",
    "  [Charles Bridge](https://en.wikipedia.org/wiki/Charles_Bridge) is a historic bridge that spans the Vltava River in\n",
    "  Prague. It is famous for its statues and gothic\n",
    "  architecture, making it one of the most iconic landmarks in the city.  \n",
    "  ![Charles Bridge](https://upload.wikimedia.org/wikipedia/commons/thumb/8/80/Charles_Bridge_-_Prague%2C_Czech_Republic_-_panoramio.jpg/1920px-Charles_Bridge_-_Prague%2C_Czech_Republic_-_panoramio.jpg)\n",
    "\n",
    "- *St. Vitus Cathedral*  \n",
    "  [St. Vitus Cathedral](https://en.wikipedia.org/wiki/St._Vitus_Cathedral) is a Gothic cathedral located within Prague\n",
    "  Castle. It is known for its stunning stained glass\n",
    "  windows and its role as the burial site for Czech kings and saints.  \n",
    "  ![St. Vitus Cathedral](https://upload.wikimedia.org/wikipedia/commons/thumb/3/34/St_Vitus_Prague_September_2016-21.jpg/1024px-St_Vitus_Prague_September_2016-21.jpg)\n",
    "\n",
    "### Natural Attractions\n",
    "\n",
    "- ***Bohemian Switzerland National Park***  \n",
    "  [Bohemian Switzerland National Park](https://en.wikipedia.org/wiki/Bohemian_Switzerland) is renowned for its dramatic\n",
    "  sandstone formations and lush landscapes. It offers\n",
    "  breathtaking views and numerous hiking trails, making it a popular destination for nature enthusiasts.  \n",
    "  ![Bohemian Switzerland](https://upload.wikimedia.org/wikipedia/commons/5/5f/Pravcicka_brana_001.jpg)\n",
    "\n",
    "- ***Krkonos National Park***  \n",
    "  [Krkonos National Park](https://en.wikipedia.org/wiki/Krkono%C5%A1e), also known as the Krkonoš Mountains, is the\n",
    "  highest mountain range in the Czech Republic. The\n",
    "  park is famous for its diverse flora and fauna, including rare plant species and wildlife.  \n",
    "  ![Krkonos National Park](https://upload.wikimedia.org/wikipedia/commons/9/93/Sn%C4%9B%C5%BEka_from_%C4%8Cern%C3%A1_hora_%28CZE%29.jpg)\n",
    "\n",
    "- ***Cesky Krumlov***  \n",
    "  [Cesky Krumlov](https://en.wikipedia.org/wiki/%C4%8Cesk%C3%BD_Krumlov) is a picturesque town in the South Bohemian\n",
    "  Region, known for its well-preserved medieval architecture\n",
    "  and charming narrow streets. The town's centerpiece is the Cesky Krumlov Castle, which offers panoramic views of the\n",
    "  town.  \n",
    "  ![Cesky Krumlov](https://upload.wikimedia.org/wikipedia/commons/thumb/e/ed/Ceskykrumlov.JPG/1280px-Ceskykrumlov.JPG)\n",
    "\n",
    "---"
   ]
  },
  {
   "cell_type": "code",
   "execution_count": 23,
   "id": "bd29b80e-b2d0-492a-8ebe-85dfd4478434",
   "metadata": {},
   "outputs": [
    {
     "data": {
      "text/html": [
       "<h2>Fascinating Facts</h2>\n",
       "\n",
       "<table style=\"width:100%; border-collapse: collapse;\">\n",
       "  <thead>\n",
       "    <tr>\n",
       "      <th style=\"text-align:center\">Fact</th>\n",
       "      <th style=\"text-align:center\">Description</th>\n",
       "      <th style=\"text-align:center\">Additional Information</th>\n",
       "    </tr>\n",
       "  </thead>\n",
       "  <tbody>\n",
       "    <tr>\n",
       "      <td style=\"text-align:center\">Oldest Beer Tradition</td>\n",
       "      <td style=\"text-align:center\">Czechia is home to the world’s oldest brewery, Pilsner Brewery.</td>\n",
       "      <td style=\"text-align:center\"><a href=\"https://en.wikipedia.org/wiki/Beer_in_the_Czech_Republic\" target=\"_blank\">Read more about Czech beer</a></td>\n",
       "    </tr>\n",
       "    <tr>\n",
       "      <td style=\"text-align:center\">Charles University</td>\n",
       "      <td style=\"text-align:center\">Founded in 1348, it’s one of the oldest universities in Europe.</td>\n",
       "      <td style=\"text-align:center\"><a href=\"https://en.wikipedia.org/wiki/Charles_University\" target=\"_blank\">History of Charles University</a></td>\n",
       "    </tr>\n",
       "    <tr>\n",
       "      <td style=\"text-align:center\">Czech Language</td>\n",
       "      <td style=\"text-align:center\">The Czech language belongs to the West Slavic group, containing over 200,000 words.</td>\n",
       "      <td style=\"text-align:center\"><a href=\"https://en.wikipedia.org/wiki/Czech_language\" target=\"_blank\">Learn more about the Czech language</a></td>\n",
       "    </tr>\n",
       "    <tr>\n",
       "      <td style=\"text-align:center\">Gothic Architecture</td>\n",
       "      <td style=\"text-align:center\">The country is known for its Gothic structures like Prague Castle and St. Vitus Cathedral.</td>\n",
       "      <td style=\"text-align:center\"><a href=\"https://en.wikipedia.org/wiki/Architecture_of_the_Czech_Republic\" target=\"_blank\">Explore Gothic architecture</a></td>\n",
       "    </tr>\n",
       "    <tr>\n",
       "      <td style=\"text-align:center\">Sedlec Ossuary</td>\n",
       "      <td style=\"text-align:center\">This chapel is decorated with human bones, creating a unique and eerie aesthetic.</td>\n",
       "      <td style=\"text-align:center\"><a href=\"https://en.wikipedia.org/wiki/Sedlec_Ossuary\" target=\"_blank\">More about Sedlec Ossuary</a></td>\n",
       "    </tr>\n",
       "  </tbody>\n",
       "</table>\n",
       "\n",
       "<p>For more interesting facts, visit the <a href=\"https://en.wikipedia.org/wiki/Czech_Republic\" >Wikipedia page</a>.</p>\n",
       "\n",
       "<hr>\n"
      ],
      "text/plain": [
       "<IPython.core.display.HTML object>"
      ]
     },
     "metadata": {},
     "output_type": "display_data"
    }
   ],
   "source": [
    "%%HTML\n",
    "<h2>Fascinating Facts</h2>\n",
    "\n",
    "<table style=\"width:100%; border-collapse: collapse;\">\n",
    "  <thead>\n",
    "    <tr>\n",
    "      <th style=\"text-align:center\">Fact</th>\n",
    "      <th style=\"text-align:center\">Description</th>\n",
    "      <th style=\"text-align:center\">Additional Information</th>\n",
    "    </tr>\n",
    "  </thead>\n",
    "  <tbody>\n",
    "    <tr>\n",
    "      <td style=\"text-align:center\">Oldest Beer Tradition</td>\n",
    "      <td style=\"text-align:center\">Czechia is home to the world’s oldest brewery, Pilsner Brewery.</td>\n",
    "      <td style=\"text-align:center\"><a href=\"https://en.wikipedia.org/wiki/Beer_in_the_Czech_Republic\" target=\"_blank\">Read more about Czech beer</a></td>\n",
    "    </tr>\n",
    "    <tr>\n",
    "      <td style=\"text-align:center\">Charles University</td>\n",
    "      <td style=\"text-align:center\">Founded in 1348, it’s one of the oldest universities in Europe.</td>\n",
    "      <td style=\"text-align:center\"><a href=\"https://en.wikipedia.org/wiki/Charles_University\" target=\"_blank\">History of Charles University</a></td>\n",
    "    </tr>\n",
    "    <tr>\n",
    "      <td style=\"text-align:center\">Czech Language</td>\n",
    "      <td style=\"text-align:center\">The Czech language belongs to the West Slavic group, containing over 200,000 words.</td>\n",
    "      <td style=\"text-align:center\"><a href=\"https://en.wikipedia.org/wiki/Czech_language\" target=\"_blank\">Learn more about the Czech language</a></td>\n",
    "    </tr>\n",
    "    <tr>\n",
    "      <td style=\"text-align:center\">Gothic Architecture</td>\n",
    "      <td style=\"text-align:center\">The country is known for its Gothic structures like Prague Castle and St. Vitus Cathedral.</td>\n",
    "      <td style=\"text-align:center\"><a href=\"https://en.wikipedia.org/wiki/Architecture_of_the_Czech_Republic\" target=\"_blank\">Explore Gothic architecture</a></td>\n",
    "    </tr>\n",
    "    <tr>\n",
    "      <td style=\"text-align:center\">Sedlec Ossuary</td>\n",
    "      <td style=\"text-align:center\">This chapel is decorated with human bones, creating a unique and eerie aesthetic.</td>\n",
    "      <td style=\"text-align:center\"><a href=\"https://en.wikipedia.org/wiki/Sedlec_Ossuary\" target=\"_blank\">More about Sedlec Ossuary</a></td>\n",
    "    </tr>\n",
    "  </tbody>\n",
    "</table>\n",
    "\n",
    "<p>For more interesting facts, visit the <a href=\"https://en.wikipedia.org/wiki/Czech_Republic\" >Wikipedia page</a>.</p>\n",
    "\n",
    "<hr>"
   ]
  },
  {
   "cell_type": "markdown",
   "id": "847f4e48-79b0-499d-9c25-453d41118056",
   "metadata": {},
   "source": [
    "# Task №2"
   ]
  },
  {
   "cell_type": "code",
   "execution_count": 2,
   "id": "b3d85323-7b96-45f9-9e9b-63bc1d997d8b",
   "metadata": {},
   "outputs": [],
   "source": [
    "def is_prime(n: int) -> bool:\n",
    "    if not isinstance(n, int):\n",
    "        return False\n",
    "    if n <= 1:\n",
    "        return False\n",
    "    if n <= 3:\n",
    "        return True\n",
    "    if n % 2 == 0 or n % 3 == 0:\n",
    "        return False\n",
    "    i = 5\n",
    "    while i * i <= n:\n",
    "        if n % i == 0 or n % (i + 2) == 0:\n",
    "            return False\n",
    "        i += 6\n",
    "    return True\n",
    "\n",
    "\n",
    "def filter_numbers(input_str: str) -> list:\n",
    "    parts = input_str.split()\n",
    "    result = []\n",
    "    for part in parts:\n",
    "        try:\n",
    "            num = int(part)\n",
    "            if num > 1:\n",
    "                result.append(num)\n",
    "        except ValueError:\n",
    "            continue\n",
    "    return result\n",
    "\n",
    "\n",
    "def task_9():\n",
    "    print(\n",
    "        \"This program will filter out non-prime numbers from your \"\n",
    "        \"input and display them in descending order.\")\n",
    "\n",
    "    while True:\n",
    "        input_str = input(\"Enter numbers separated by a space:\")\n",
    "\n",
    "        numbers = filter_numbers(input_str)\n",
    "\n",
    "        if not numbers:\n",
    "            print(\"No numbers found\")\n",
    "            continue\n",
    "        else:\n",
    "            break\n",
    "\n",
    "    non_prime_numbers = []\n",
    "    for num in numbers:\n",
    "        if not is_prime(num):\n",
    "            non_prime_numbers.append(num)\n",
    "\n",
    "    non_prime_numbers.sort(reverse=True)\n",
    "\n",
    "    if not non_prime_numbers:\n",
    "        print(\"No non-prime numbers found\")\n",
    "    else:\n",
    "        print(\"Non-prime numbers in descending order:\", non_prime_numbers)"
   ]
  },
  {
   "cell_type": "code",
   "execution_count": 8,
   "id": "d9ffcec2-3d1d-4605-9d74-30f8ecce6d16",
   "metadata": {},
   "outputs": [
    {
     "name": "stdout",
     "output_type": "stream",
     "text": [
      "This program will filter out non-prime numbers from your input and display them in descending order.\n"
     ]
    },
    {
     "name": "stdin",
     "output_type": "stream",
     "text": [
      "Enter numbers separated by a space: 3 12 15 7 11 35 18\n"
     ]
    },
    {
     "name": "stdout",
     "output_type": "stream",
     "text": [
      "Non-prime numbers in descending order: [35, 18, 15, 12]\n"
     ]
    }
   ],
   "source": [
    "task_9()"
   ]
  },
  {
   "cell_type": "code",
   "execution_count": 9,
   "id": "111396bb-bd22-454b-b555-da456969b7e6",
   "metadata": {},
   "outputs": [
    {
     "name": "stdout",
     "output_type": "stream",
     "text": [
      "This program will filter out non-prime numbers from your input and display them in descending order.\n"
     ]
    },
    {
     "name": "stdin",
     "output_type": "stream",
     "text": [
      "Enter numbers separated by a space: 0 34 2 1 15 22 4 23 6\n"
     ]
    },
    {
     "name": "stdout",
     "output_type": "stream",
     "text": [
      "Non-prime numbers in descending order: [34, 22, 15, 6, 4]\n"
     ]
    }
   ],
   "source": [
    "task_9()"
   ]
  },
  {
   "cell_type": "code",
   "execution_count": 10,
   "id": "c68ff6fa-4146-4b6d-acb3-33165b28d8e0",
   "metadata": {},
   "outputs": [
    {
     "name": "stdout",
     "output_type": "stream",
     "text": [
      "This program will filter out non-prime numbers from your input and display them in descending order.\n"
     ]
    },
    {
     "name": "stdin",
     "output_type": "stream",
     "text": [
      "Enter numbers separated by a space: a b c\n"
     ]
    },
    {
     "name": "stdout",
     "output_type": "stream",
     "text": [
      "No numbers found\n"
     ]
    },
    {
     "name": "stdin",
     "output_type": "stream",
     "text": [
      "Enter numbers separated by a space: -4 -5 0 1 17\n"
     ]
    },
    {
     "name": "stdout",
     "output_type": "stream",
     "text": [
      "No non-prime numbers found\n"
     ]
    }
   ],
   "source": [
    "task_9()"
   ]
  },
  {
   "cell_type": "code",
   "execution_count": 11,
   "id": "7566a082-b32c-4a9a-a7a2-550157ea76b5",
   "metadata": {},
   "outputs": [
    {
     "name": "stdout",
     "output_type": "stream",
     "text": [
      "This program will filter out non-prime numbers from your input and display them in descending order.\n"
     ]
    },
    {
     "name": "stdin",
     "output_type": "stream",
     "text": [
      "Enter numbers separated by a space: a b 2 4 6\n"
     ]
    },
    {
     "name": "stdout",
     "output_type": "stream",
     "text": [
      "Non-prime numbers in descending order: [6, 4]\n"
     ]
    }
   ],
   "source": [
    "task_9()"
   ]
  },
  {
   "cell_type": "code",
   "execution_count": 3,
   "id": "a8107e57-9eab-413b-baac-460687ecb17d",
   "metadata": {},
   "outputs": [
    {
     "name": "stdout",
     "output_type": "stream",
     "text": [
      "This program will filter out non-prime numbers from your input and display them in descending order.\n"
     ]
    },
    {
     "name": "stdin",
     "output_type": "stream",
     "text": [
      "Enter numbers separated by a space: 4      5      7\n"
     ]
    },
    {
     "name": "stdout",
     "output_type": "stream",
     "text": [
      "Non-prime numbers in descending order: [4]\n"
     ]
    }
   ],
   "source": [
    "task_9()\n"
   ]
  },
  {
   "cell_type": "code",
   "execution_count": null,
   "id": "96138eac-ea5f-4fba-8b14-0e0f34596f7a",
   "metadata": {},
   "outputs": [],
   "source": []
  }
 ],
 "metadata": {
  "kernelspec": {
   "display_name": "Python 3 (ipykernel)",
   "language": "python",
   "name": "python3"
  },
  "language_info": {
   "codemirror_mode": {
    "name": "ipython",
    "version": 3
   },
   "file_extension": ".py",
   "mimetype": "text/x-python",
   "name": "python",
   "nbconvert_exporter": "python",
   "pygments_lexer": "ipython3",
   "version": "3.12.6"
  }
 },
 "nbformat": 4,
 "nbformat_minor": 5
}
